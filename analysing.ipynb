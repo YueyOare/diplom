{
 "cells": [
  {
   "metadata": {
    "ExecuteTime": {
     "end_time": "2025-05-15T18:43:16.787818Z",
     "start_time": "2025-05-15T18:43:10.813789Z"
    }
   },
   "cell_type": "code",
   "source": [
    "from dash import Dash, dcc, html, Input, Output, State, callback\n",
    "import dash\n",
    "import dash_bootstrap_components as dbc\n",
    "from sklearn.manifold import TSNE\n",
    "from sklearn.cluster import AgglomerativeClustering\n",
    "from scipy.cluster.hierarchy import linkage, fcluster\n",
    "from collections import Counter, defaultdict\n",
    "import plotly.graph_objects as go\n",
    "import plotly.express as px\n",
    "import threading\n",
    "import numpy as np\n",
    "import json"
   ],
   "id": "7817ff3bee67679c",
   "outputs": [],
   "execution_count": 1
  },
  {
   "metadata": {
    "ExecuteTime": {
     "end_time": "2025-05-15T18:43:16.808455Z",
     "start_time": "2025-05-15T18:43:16.797796Z"
    }
   },
   "cell_type": "code",
   "source": [
    "def load_activations(filename):\n",
    "    data = np.load(filename)\n",
    "    activations = data[\"activations\"]\n",
    "    labels = data[\"labels\"]\n",
    "    return activations, labels\n",
    "\n",
    "def load_traits(dataset_path):\n",
    "    with open(dataset_path, 'r', encoding='utf-8') as f:\n",
    "        trait_entries = json.load(f)\n",
    "        \n",
    "        traits_en = [e[\"trait\"] for e in trait_entries]\n",
    "        traits_ru = [e[\"trait_russian\"] for e in trait_entries]\n",
    "        traits_uk = [e[\"trait_ukrainian\"] for e in trait_entries]\n",
    "        sentiments = [e[\"sentiment\"] for e in trait_entries]\n",
    "    return {\"en\": traits_en, \"ru\": traits_ru, \"uk\": traits_uk, \"sentiment\": sentiments}\n",
    "\n",
    "def group_activations(activations, labels, traits):\n",
    "    trait_activations = defaultdict(list)\n",
    "    trait_index = 0\n",
    "\n",
    "    for activation, label in zip(activations, labels):\n",
    "        if label == 0:\n",
    "            trait_activations[\"Neutral\"].append(activation)\n",
    "        else:\n",
    "            trait_activations[traits[\"en\"][trait_index]].append(activation)\n",
    "            trait_index += 1\n",
    "\n",
    "    return trait_activations\n",
    "\n",
    "def extract_layer_activations(trait_activations, layer_index, average = False):\n",
    "    extracted = {}\n",
    "\n",
    "    for trait, activations in trait_activations.items():\n",
    "        layer_acts = [a[layer_index] for a in activations]\n",
    "\n",
    "        if average:\n",
    "            mean_act = np.mean(layer_acts, axis=0)\n",
    "            extracted[trait] = mean_act[None, :] \n",
    "        else:\n",
    "            extracted[trait] = np.stack(layer_acts)\n",
    "\n",
    "    return extracted"
   ],
   "id": "70714728e9ba0a19",
   "outputs": [],
   "execution_count": 2
  },
  {
   "metadata": {
    "ExecuteTime": {
     "end_time": "2025-05-15T18:46:36.014732Z",
     "start_time": "2025-05-15T18:43:17.209907Z"
    }
   },
   "cell_type": "code",
   "source": [
    "activations_llama, labels_llama = load_activations(\"activations_labels_llama.npz\")\n",
    "activations_mistral, labels_mistral = load_activations(\"activations_labels_mistral.npz\")\n",
    "activations_t5, labels_t5 = load_activations(\"activations_labels_t5.npz\")\n",
    "activations_llama.shape, activations_mistral.shape, activations_t5.shape"
   ],
   "id": "92ee09df4b70ca88",
   "outputs": [
    {
     "data": {
      "text/plain": [
       "((18200, 32, 4096), (18200, 32, 4096), (18200, 48, 2048))"
      ]
     },
     "execution_count": 3,
     "metadata": {},
     "output_type": "execute_result"
    }
   ],
   "execution_count": 3
  },
  {
   "metadata": {
    "ExecuteTime": {
     "end_time": "2025-05-15T18:46:36.169708Z",
     "start_time": "2025-05-15T18:46:36.152844Z"
    }
   },
   "cell_type": "code",
   "source": [
    "labels = labels_llama if all(labels_llama == labels_t5) else None\n",
    "labels.shape"
   ],
   "id": "c7302be58d048638",
   "outputs": [
    {
     "data": {
      "text/plain": [
       "(18200,)"
      ]
     },
     "execution_count": 4,
     "metadata": {},
     "output_type": "execute_result"
    }
   ],
   "execution_count": 4
  },
  {
   "metadata": {
    "ExecuteTime": {
     "end_time": "2025-05-15T18:46:36.919572Z",
     "start_time": "2025-05-15T18:46:36.216763Z"
    }
   },
   "cell_type": "code",
   "source": "traits = load_traits(\"trait_combined_dataset.json\")",
   "id": "855f3e699a11e4e1",
   "outputs": [],
   "execution_count": 5
  },
  {
   "metadata": {
    "ExecuteTime": {
     "end_time": "2025-05-15T18:46:36.976394Z",
     "start_time": "2025-05-15T18:46:36.943423Z"
    }
   },
   "cell_type": "code",
   "source": [
    "grouped_activations_llama = group_activations(activations_llama, labels, traits)\n",
    "grouped_activations_mistral = group_activations(activations_mistral, labels, traits)\n",
    "grouped_activations_t5 = group_activations(activations_t5, labels, traits)\n",
    "len(grouped_activations_llama[\"Neutral\"])"
   ],
   "id": "1f7f0545ddc37adf",
   "outputs": [
    {
     "data": {
      "text/plain": [
       "9100"
      ]
     },
     "execution_count": 6,
     "metadata": {},
     "output_type": "execute_result"
    }
   ],
   "execution_count": 6
  },
  {
   "metadata": {
    "ExecuteTime": {
     "end_time": "2025-05-15T19:23:11.650049Z",
     "start_time": "2025-05-15T19:23:11.574024Z"
    }
   },
   "cell_type": "code",
   "source": [
    "def create_activation_visualization(model_data: dict, traits: dict):\n",
    "    app = Dash(__name__)\n",
    "\n",
    "    sentiments_map = {name: sentiment for name, sentiment in zip(traits[\"en\"], traits[\"sentiment\"])}\n",
    "    sentiments_map[\"Neutral\"] = \"None\"\n",
    "\n",
    "    color_palette = px.colors.qualitative.Dark24 + px.colors.qualitative.Alphabet\n",
    "    sentiment_colors = {\"Positive\": \"green\", \"Negative\": \"red\", \"Neutral\": \"blue\", \"None\": \"gray\"}\n",
    "\n",
    "    precomputed_cluster_cache = {}  # (model, layer, n_clusters) -> data\n",
    "    precomputed_all_cache = {}      # (model, layer) -> data\n",
    "\n",
    "    def generate_marks(min_val, max_val, steps=10):\n",
    "        step = int(max(1, (max_val - min_val) // steps))\n",
    "        return {i: str(i) for i in range(min_val, max_val + 1, step)}\n",
    "\n",
    "    model_names = list(model_data.keys())\n",
    "    default_model = model_names[0]\n",
    "    max_clusters_dict = {model: len(data[1]) for model, data in model_data.items()}\n",
    "    max_layers_dict = {model: data[0].shape[1] - 1 for model, data in model_data.items()}\n",
    "\n",
    "    app.layout = html.Div([\n",
    "        html.Div([\n",
    "            html.Label(\"Модель:\", style={\"color\": \"white\"}),\n",
    "            dcc.Dropdown(\n",
    "                id=\"model-dropdown\",\n",
    "                options=[{\"label\": name, \"value\": name} for name in model_names],\n",
    "                value=default_model\n",
    "            )\n",
    "        ]),\n",
    "        dcc.Graph(id=\"tsne-graph\"),\n",
    "        html.Div([\n",
    "            html.Label(\"Кількість кластерів:\", style={\"color\": \"white\"}),\n",
    "            dcc.Slider(id=\"cluster-slider\")\n",
    "        ]),\n",
    "        html.Div([\n",
    "            html.Label(\"Шар:\", style={\"color\": \"white\"}),\n",
    "            dcc.Slider(id=\"layer-slider\")\n",
    "        ]),\n",
    "        html.Div([\n",
    "            dcc.Checklist(\n",
    "                id=\"color-mode\",\n",
    "                options=[{\"label\": \"Показати кольори за настроєм\", \"value\": \"sentiment\"}],\n",
    "                value=[]\n",
    "            )\n",
    "        ], style={\"color\": \"white\"}),\n",
    "        html.Div([\n",
    "            dcc.Checklist(\n",
    "                id=\"show-all-points\",\n",
    "                options=[{\"label\": \"Показати всі активації без кластеризації\", \"value\": \"show_all\"}],\n",
    "                value=[]\n",
    "            )\n",
    "        ], style={\"color\": \"white\", \"marginTop\": \"10px\"}),\n",
    "        html.Div([\n",
    "            html.Label(\"Мова назв рис:\", style={\"color\": \"white\"}),\n",
    "            dcc.Dropdown(\n",
    "                id=\"language-dropdown\",\n",
    "                options=[{\"label\": lang, \"value\": lang} for lang in [\"en\", \"uk\", \"ru\"]],\n",
    "                value=\"en\"\n",
    "            )\n",
    "        ])\n",
    "    ], style={\"backgroundColor\": \"black\", \"color\": \"white\", \"padding\": \"20px\"})\n",
    "\n",
    "    @app.callback(\n",
    "        Output(\"cluster-slider\", \"min\"),\n",
    "        Output(\"cluster-slider\", \"max\"),\n",
    "        Output(\"cluster-slider\", \"value\"),\n",
    "        Output(\"cluster-slider\", \"marks\"),\n",
    "        Output(\"layer-slider\", \"min\"),\n",
    "        Output(\"layer-slider\", \"max\"),\n",
    "        Output(\"layer-slider\", \"value\"),\n",
    "        Output(\"layer-slider\", \"marks\"),\n",
    "        Input(\"model-dropdown\", \"value\")\n",
    "    )\n",
    "    def update_sliders(model):\n",
    "        max_clusters = max_clusters_dict[model]\n",
    "        max_layer = max_layers_dict[model]\n",
    "        cluster_marks = {i: str(int(i)) for i in range(2, max_clusters + 1) if i == 2 or i % 5 == 0}\n",
    "        layer_marks = generate_marks(0, max_layer)\n",
    "        return 2, max_clusters, max_clusters, cluster_marks, 0, max_layer, min(18, max_layer), layer_marks\n",
    "\n",
    "    @app.callback(\n",
    "        Output(\"tsne-graph\", \"figure\"),\n",
    "        Input(\"model-dropdown\", \"value\"),\n",
    "        Input(\"cluster-slider\", \"value\"),\n",
    "        Input(\"layer-slider\", \"value\"),\n",
    "        Input(\"color-mode\", \"value\"),\n",
    "        Input(\"language-dropdown\", \"value\"),\n",
    "        Input(\"show-all-points\", \"value\")\n",
    "    )\n",
    "    def update_graph(model_name, n_clusters, layer_index, color_mode, lang, show_all_points):\n",
    "        layer_index = int(layer_index)\n",
    "        n_clusters = int(n_clusters)\n",
    "        activations, grouped_activations = model_data[model_name]\n",
    "        show_all = \"show_all\" in show_all_points\n",
    "\n",
    "        if show_all:\n",
    "            cache_key = (model_name, layer_index)\n",
    "            if cache_key not in precomputed_all_cache:\n",
    "                trait_embeddings = extract_layer_activations(grouped_activations, layer_index, average=False)\n",
    "                trait_names = list(trait_embeddings.keys())\n",
    "                vectors_list, names_list = [], []\n",
    "                for name in trait_names:\n",
    "                    vectors = trait_embeddings[name]\n",
    "                    vectors_list.append(vectors)\n",
    "                    names_list.extend([name]*vectors.shape[0])\n",
    "                all_vectors = np.vstack(vectors_list)\n",
    "                tsne_points = TSNE(n_components=2, random_state=0).fit_transform(all_vectors)\n",
    "                precomputed_all_cache[cache_key] = {\n",
    "                    \"trait_names\": trait_names,\n",
    "                    \"tsne_points\": tsne_points,\n",
    "                    \"names_list\": names_list\n",
    "                }\n",
    "\n",
    "            data = precomputed_all_cache[cache_key]\n",
    "            tsne_points = data[\"tsne_points\"]\n",
    "            names_list = data[\"names_list\"]\n",
    "\n",
    "            traces = []\n",
    "            for trait in sorted(set(names_list)):\n",
    "                idxs = [i for i, n in enumerate(names_list) if n == trait]\n",
    "                color = sentiment_colors.get(sentiments_map.get(trait, \"None\").capitalize(), \"gray\") if \"sentiment\" in color_mode else color_palette[hash(trait) % len(color_palette)]\n",
    "                localized_name = \"Нейтрально\" if (trait == \"Neutral\" and lang != \"en\") else traits[lang][traits[\"en\"].index(trait)] if trait in traits[\"en\"] else trait\n",
    "                traces.append(go.Scatter(\n",
    "                    x=tsne_points[idxs, 0],\n",
    "                    y=tsne_points[idxs, 1],\n",
    "                    mode='markers',\n",
    "                    name=localized_name,\n",
    "                    text=[localized_name]*len(idxs),\n",
    "                    hoverinfo='text',\n",
    "                    marker=dict(color=color, size=6),\n",
    "                    legendgroup=trait,\n",
    "                    showlegend=True\n",
    "                ))\n",
    "            return go.Figure(\n",
    "                            data=traces,\n",
    "                            layout={\n",
    "                                \"title\": f\"{model_name} (Layer {layer_index}, All Activations)\",\n",
    "                                \"hovermode\": \"closest\",\n",
    "                                \"legend\": {\n",
    "                                    \"itemclick\": \"toggle\",\n",
    "                                    \"itemdoubleclick\": \"toggleothers\",\n",
    "                                }\n",
    "                            }\n",
    "                        )\n",
    "\n",
    "        else:\n",
    "            cache_key = (model_name, layer_index, n_clusters)\n",
    "            if cache_key not in precomputed_cluster_cache:\n",
    "                trait_embeddings = extract_layer_activations(grouped_activations, layer_index, average=True)\n",
    "                trait_names = list(trait_embeddings.keys())\n",
    "                vectors = np.vstack([trait_embeddings[name] for name in trait_names])\n",
    "                clustering = AgglomerativeClustering(n_clusters=n_clusters)\n",
    "                labels = clustering.fit_predict(vectors)\n",
    "                centroids = np.array([vectors[labels == i].mean(axis=0) for i in range(n_clusters)])\n",
    "                tsne_centroids = TSNE(n_components=2, perplexity=min(n_clusters - 1, 30), random_state=0).fit_transform(centroids)\n",
    "                precomputed_cluster_cache[cache_key] = {\n",
    "                    \"trait_names\": trait_names,\n",
    "                    \"labels\": labels,\n",
    "                    \"tsne_centroids\": tsne_centroids\n",
    "                }\n",
    "\n",
    "            data = precomputed_cluster_cache[cache_key]\n",
    "            trait_names = data[\"trait_names\"]\n",
    "            labels = data[\"labels\"]\n",
    "            tsne_centroids = data[\"tsne_centroids\"]\n",
    "\n",
    "            traces = []\n",
    "            for cluster_id in np.unique(labels):\n",
    "                idxs = np.where(labels == cluster_id)[0]\n",
    "                names = [trait_names[i] for i in idxs]\n",
    "                sentiments = [sentiments_map.get(name, \"None\").capitalize() for name in names]\n",
    "                dominant_sentiment = Counter(sentiments).most_common(1)[0][0]\n",
    "                color = sentiment_colors.get(dominant_sentiment, \"gray\") if \"sentiment\" in color_mode else color_palette[cluster_id % len(color_palette)]\n",
    "                localized_names = [\"Нейтрально\" if (n == \"Neutral\" and lang != \"en\") else traits[lang][traits[\"en\"].index(n)] if n in traits[\"en\"] else n for n in names]\n",
    "                tooltip = \"<br>\".join(localized_names)\n",
    "                traces.append(go.Scatter(\n",
    "                    x=[tsne_centroids[cluster_id, 0]],\n",
    "                    y=[tsne_centroids[cluster_id, 1]],\n",
    "                    mode='markers',\n",
    "                    name=f\"Cluster {cluster_id}\",\n",
    "                    text=tooltip,\n",
    "                    hoverinfo='text',\n",
    "                    marker=dict(color=color, size=12),\n",
    "                    legendgroup=f\"cluster_{cluster_id}\",\n",
    "                    showlegend=True\n",
    "                ))\n",
    "            return go.Figure(\n",
    "                data=traces,\n",
    "                layout={\n",
    "                    \"title\": f\"{model_name} (Layer {layer_index}, Clusters {n_clusters})\",\n",
    "                    \"hovermode\": \"closest\",\n",
    "                    \"legend\": {\n",
    "                        \"itemclick\": \"toggle\",\n",
    "                        \"itemdoubleclick\": \"toggleothers\",\n",
    "                    }\n",
    "                }\n",
    "            )\n",
    "\n",
    "    app.run(debug=True)"
   ],
   "id": "f94d9e2fa9813db9",
   "outputs": [],
   "execution_count": 11
  },
  {
   "metadata": {
    "ExecuteTime": {
     "end_time": "2025-05-15T19:24:05.876139Z",
     "start_time": "2025-05-15T19:24:05.427352Z"
    }
   },
   "cell_type": "code",
   "source": [
    "create_activation_visualization({\n",
    "    \"LLaMa\": (activations_llama, grouped_activations_llama),\n",
    "    \"Mistral\": (activations_mistral, grouped_activations_mistral),\n",
    "    \"FLAN-T5\": (activations_t5, grouped_activations_t5),\n",
    "    },\n",
    "    traits)"
   ],
   "id": "bb7a512ad2689778",
   "outputs": [
    {
     "data": {
      "text/plain": [
       "<IPython.lib.display.IFrame at 0x214e387eae0>"
      ],
      "text/html": [
       "\n",
       "        <iframe\n",
       "            width=\"100%\"\n",
       "            height=\"650\"\n",
       "            src=\"http://127.0.0.1:8050/\"\n",
       "            frameborder=\"0\"\n",
       "            allowfullscreen\n",
       "            \n",
       "        ></iframe>\n",
       "        "
      ]
     },
     "metadata": {},
     "output_type": "display_data"
    }
   ],
   "execution_count": 12
  },
  {
   "metadata": {
    "ExecuteTime": {
     "end_time": "2025-05-15T18:47:53.470918Z",
     "start_time": "2025-05-15T18:47:53.467763Z"
    }
   },
   "cell_type": "code",
   "source": "",
   "id": "921c40f788fae51b",
   "outputs": [],
   "execution_count": null
  }
 ],
 "metadata": {
  "kernelspec": {
   "display_name": "Python 3",
   "language": "python",
   "name": "python3"
  },
  "language_info": {
   "codemirror_mode": {
    "name": "ipython",
    "version": 2
   },
   "file_extension": ".py",
   "mimetype": "text/x-python",
   "name": "python",
   "nbconvert_exporter": "python",
   "pygments_lexer": "ipython2",
   "version": "2.7.6"
  }
 },
 "nbformat": 4,
 "nbformat_minor": 5
}
