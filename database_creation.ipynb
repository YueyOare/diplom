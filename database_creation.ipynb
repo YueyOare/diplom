{
 "cells": [
  {
   "metadata": {
    "ExecuteTime": {
     "end_time": "2025-05-07T18:50:53.635706Z",
     "start_time": "2025-05-07T18:50:52.451512Z"
    }
   },
   "cell_type": "code",
   "source": "!pip install openpyxl pandas transformers accelerate bitsandbytes deep-translator",
   "id": "141dc7874f1e5456",
   "outputs": [
    {
     "name": "stdout",
     "output_type": "stream",
     "text": [
      "Requirement already satisfied: openpyxl in c:\\users\\user\\pycharmprojects\\diplom\\venv\\lib\\site-packages (3.1.5)\n",
      "Requirement already satisfied: pandas in c:\\users\\user\\pycharmprojects\\diplom\\venv\\lib\\site-packages (2.2.3)\n",
      "Requirement already satisfied: transformers in c:\\users\\user\\pycharmprojects\\diplom\\venv\\lib\\site-packages (4.51.3)\n",
      "Requirement already satisfied: accelerate in c:\\users\\user\\pycharmprojects\\diplom\\venv\\lib\\site-packages (1.6.0)\n",
      "Requirement already satisfied: bitsandbytes in c:\\users\\user\\pycharmprojects\\diplom\\venv\\lib\\site-packages (0.45.5)\n",
      "Requirement already satisfied: deep-translator in c:\\users\\user\\pycharmprojects\\diplom\\venv\\lib\\site-packages (1.11.4)\n",
      "Requirement already satisfied: et-xmlfile in c:\\users\\user\\pycharmprojects\\diplom\\venv\\lib\\site-packages (from openpyxl) (2.0.0)\n",
      "Requirement already satisfied: numpy>=1.26.0 in c:\\users\\user\\pycharmprojects\\diplom\\venv\\lib\\site-packages (from pandas) (2.1.2)\n",
      "Requirement already satisfied: python-dateutil>=2.8.2 in c:\\users\\user\\pycharmprojects\\diplom\\venv\\lib\\site-packages (from pandas) (2.9.0.post0)\n",
      "Requirement already satisfied: pytz>=2020.1 in c:\\users\\user\\pycharmprojects\\diplom\\venv\\lib\\site-packages (from pandas) (2025.2)\n",
      "Requirement already satisfied: tzdata>=2022.7 in c:\\users\\user\\pycharmprojects\\diplom\\venv\\lib\\site-packages (from pandas) (2025.2)\n",
      "Requirement already satisfied: filelock in c:\\users\\user\\pycharmprojects\\diplom\\venv\\lib\\site-packages (from transformers) (3.13.1)\n",
      "Requirement already satisfied: huggingface-hub<1.0,>=0.30.0 in c:\\users\\user\\pycharmprojects\\diplom\\venv\\lib\\site-packages (from transformers) (0.30.2)\n",
      "Requirement already satisfied: packaging>=20.0 in c:\\users\\user\\pycharmprojects\\diplom\\venv\\lib\\site-packages (from transformers) (25.0)\n",
      "Requirement already satisfied: pyyaml>=5.1 in c:\\users\\user\\pycharmprojects\\diplom\\venv\\lib\\site-packages (from transformers) (6.0.2)\n",
      "Requirement already satisfied: regex!=2019.12.17 in c:\\users\\user\\pycharmprojects\\diplom\\venv\\lib\\site-packages (from transformers) (2024.11.6)\n",
      "Requirement already satisfied: requests in c:\\users\\user\\pycharmprojects\\diplom\\venv\\lib\\site-packages (from transformers) (2.32.3)\n",
      "Requirement already satisfied: tokenizers<0.22,>=0.21 in c:\\users\\user\\pycharmprojects\\diplom\\venv\\lib\\site-packages (from transformers) (0.21.1)\n",
      "Requirement already satisfied: safetensors>=0.4.3 in c:\\users\\user\\pycharmprojects\\diplom\\venv\\lib\\site-packages (from transformers) (0.5.3)\n",
      "Requirement already satisfied: tqdm>=4.27 in c:\\users\\user\\pycharmprojects\\diplom\\venv\\lib\\site-packages (from transformers) (4.67.1)\n",
      "Requirement already satisfied: fsspec>=2023.5.0 in c:\\users\\user\\pycharmprojects\\diplom\\venv\\lib\\site-packages (from huggingface-hub<1.0,>=0.30.0->transformers) (2024.6.1)\n",
      "Requirement already satisfied: typing-extensions>=3.7.4.3 in c:\\users\\user\\pycharmprojects\\diplom\\venv\\lib\\site-packages (from huggingface-hub<1.0,>=0.30.0->transformers) (4.12.2)\n",
      "Requirement already satisfied: psutil in c:\\users\\user\\pycharmprojects\\diplom\\venv\\lib\\site-packages (from accelerate) (7.0.0)\n",
      "Requirement already satisfied: torch>=2.0.0 in c:\\users\\user\\pycharmprojects\\diplom\\venv\\lib\\site-packages (from accelerate) (2.7.0+cu128)\n",
      "Requirement already satisfied: sympy>=1.13.3 in c:\\users\\user\\pycharmprojects\\diplom\\venv\\lib\\site-packages (from torch>=2.0.0->accelerate) (1.13.3)\n",
      "Requirement already satisfied: networkx in c:\\users\\user\\pycharmprojects\\diplom\\venv\\lib\\site-packages (from torch>=2.0.0->accelerate) (3.3)\n",
      "Requirement already satisfied: jinja2 in c:\\users\\user\\pycharmprojects\\diplom\\venv\\lib\\site-packages (from torch>=2.0.0->accelerate) (3.1.4)\n",
      "Requirement already satisfied: setuptools in c:\\users\\user\\pycharmprojects\\diplom\\venv\\lib\\site-packages (from torch>=2.0.0->accelerate) (70.2.0)\n",
      "Requirement already satisfied: beautifulsoup4<5.0.0,>=4.9.1 in c:\\users\\user\\pycharmprojects\\diplom\\venv\\lib\\site-packages (from deep-translator) (4.13.4)\n",
      "Requirement already satisfied: soupsieve>1.2 in c:\\users\\user\\pycharmprojects\\diplom\\venv\\lib\\site-packages (from beautifulsoup4<5.0.0,>=4.9.1->deep-translator) (2.7)\n",
      "Requirement already satisfied: charset-normalizer<4,>=2 in c:\\users\\user\\pycharmprojects\\diplom\\venv\\lib\\site-packages (from requests->transformers) (3.4.2)\n",
      "Requirement already satisfied: idna<4,>=2.5 in c:\\users\\user\\pycharmprojects\\diplom\\venv\\lib\\site-packages (from requests->transformers) (3.10)\n",
      "Requirement already satisfied: urllib3<3,>=1.21.1 in c:\\users\\user\\pycharmprojects\\diplom\\venv\\lib\\site-packages (from requests->transformers) (2.4.0)\n",
      "Requirement already satisfied: certifi>=2017.4.17 in c:\\users\\user\\pycharmprojects\\diplom\\venv\\lib\\site-packages (from requests->transformers) (2025.4.26)\n",
      "Requirement already satisfied: six>=1.5 in c:\\users\\user\\pycharmprojects\\diplom\\venv\\lib\\site-packages (from python-dateutil>=2.8.2->pandas) (1.17.0)\n",
      "Requirement already satisfied: mpmath<1.4,>=1.1.0 in c:\\users\\user\\pycharmprojects\\diplom\\venv\\lib\\site-packages (from sympy>=1.13.3->torch>=2.0.0->accelerate) (1.3.0)\n",
      "Requirement already satisfied: colorama in c:\\users\\user\\pycharmprojects\\diplom\\venv\\lib\\site-packages (from tqdm>=4.27->transformers) (0.4.6)\n",
      "Requirement already satisfied: MarkupSafe>=2.0 in c:\\users\\user\\pycharmprojects\\diplom\\venv\\lib\\site-packages (from jinja2->torch>=2.0.0->accelerate) (2.1.5)\n"
     ]
    }
   ],
   "execution_count": 1
  },
  {
   "metadata": {
    "ExecuteTime": {
     "end_time": "2025-05-08T11:02:36.892133Z",
     "start_time": "2025-05-08T11:02:36.392897Z"
    }
   },
   "cell_type": "code",
   "source": [
    "import pandas as pd\n",
    "\n",
    "df = pd.read_excel('Traits List.xlsx')\n",
    "essential_traits = [\n",
    "    'Active', 'Adventurous', 'Affectionate', 'Ambitious', 'Angry', 'Anxious', 'Arrogant',\n",
    "    'Attentive', 'Bossy', 'Brave', 'Calm', 'Capable', 'Careful', 'Cautious', 'Charismatic',\n",
    "    'Cheerful', 'Clever', 'Clumsy', 'Cold-Hearted', 'Compassionate', 'Confident', 'Considerate',\n",
    "    'Cooperative', 'Courageous', 'Cowardly', 'Critical', 'Cruel', 'Curious', 'Daring',\n",
    "    'Decisive', 'Dependable', 'Determined', 'Diligent', 'Dishonest', 'Disrespectful',\n",
    "    'Eager', 'Easygoing', 'Efficient', 'Eloquent', 'Embarrassed', 'Energetic', 'Enthusiastic',\n",
    "    'Fair', 'Faithful', 'Fearless', 'Friendly', 'Funny', 'Generous', 'Gentle', 'Grateful',\n",
    "    'Greedy', 'Grouchy', 'Gullible', 'Happy', 'Helpful', 'Honest', 'Hopeful', 'Humble',\n",
    "    'Impulsive', 'Independent', 'Innocent', 'Intelligent', 'Jealous', 'Kind', 'Lazy',\n",
    "    'Logical', 'Lonely', 'Loving', 'Loyal', 'Mean', 'Mature', 'Moody', 'Naïve', 'Nervous',\n",
    "    'Obedient', 'Optimistic', 'Organized', 'Pessimistic', 'Polite', 'Popular', 'Positive',\n",
    "    'Proud', 'Reliable', 'Respectful', 'Responsible', 'Rude', 'Sarcastic', 'Selfish',\n",
    "    'Sensitive', 'Shy', 'Smart', 'Sociable', 'Stubborn', 'Sweet', 'Talkative', 'Thoughtful',\n",
    "    'Timid', 'Trustworthy', 'Wise', 'Witty'\n",
    "]\n",
    "\n",
    "df = df[df['Trait'].isin(essential_traits)].reset_index(drop=True)\n",
    "df.head()"
   ],
   "id": "562e5064461532ed",
   "outputs": [
    {
     "data": {
      "text/plain": [
       "          Trait                                        Description\n",
       "0        Active       Tending to move around often; full of energy\n",
       "1   Adventurous  Willing to take risks; likes new adventures & ...\n",
       "2  Affectionate                 Showing affection; tender; loving \n",
       "3     Ambitious                  Eager to succeed; full of desire \n",
       "4         Angry                           Feeling or showing anger"
      ],
      "text/html": [
       "<div>\n",
       "<style scoped>\n",
       "    .dataframe tbody tr th:only-of-type {\n",
       "        vertical-align: middle;\n",
       "    }\n",
       "\n",
       "    .dataframe tbody tr th {\n",
       "        vertical-align: top;\n",
       "    }\n",
       "\n",
       "    .dataframe thead th {\n",
       "        text-align: right;\n",
       "    }\n",
       "</style>\n",
       "<table border=\"1\" class=\"dataframe\">\n",
       "  <thead>\n",
       "    <tr style=\"text-align: right;\">\n",
       "      <th></th>\n",
       "      <th>Trait</th>\n",
       "      <th>Description</th>\n",
       "    </tr>\n",
       "  </thead>\n",
       "  <tbody>\n",
       "    <tr>\n",
       "      <th>0</th>\n",
       "      <td>Active</td>\n",
       "      <td>Tending to move around often; full of energy</td>\n",
       "    </tr>\n",
       "    <tr>\n",
       "      <th>1</th>\n",
       "      <td>Adventurous</td>\n",
       "      <td>Willing to take risks; likes new adventures &amp; ...</td>\n",
       "    </tr>\n",
       "    <tr>\n",
       "      <th>2</th>\n",
       "      <td>Affectionate</td>\n",
       "      <td>Showing affection; tender; loving</td>\n",
       "    </tr>\n",
       "    <tr>\n",
       "      <th>3</th>\n",
       "      <td>Ambitious</td>\n",
       "      <td>Eager to succeed; full of desire</td>\n",
       "    </tr>\n",
       "    <tr>\n",
       "      <th>4</th>\n",
       "      <td>Angry</td>\n",
       "      <td>Feeling or showing anger</td>\n",
       "    </tr>\n",
       "  </tbody>\n",
       "</table>\n",
       "</div>"
      ]
     },
     "execution_count": 1,
     "metadata": {},
     "output_type": "execute_result"
    }
   ],
   "execution_count": 1
  },
  {
   "metadata": {
    "ExecuteTime": {
     "end_time": "2025-05-08T11:02:38.862565Z",
     "start_time": "2025-05-08T11:02:38.856549Z"
    }
   },
   "cell_type": "code",
   "source": "df.shape",
   "id": "5097a4e78391be9b",
   "outputs": [
    {
     "data": {
      "text/plain": [
       "(91, 2)"
      ]
     },
     "execution_count": 2,
     "metadata": {},
     "output_type": "execute_result"
    }
   ],
   "execution_count": 2
  },
  {
   "metadata": {
    "ExecuteTime": {
     "end_time": "2025-05-08T11:03:04.013524Z",
     "start_time": "2025-05-08T11:02:39.925297Z"
    }
   },
   "cell_type": "code",
   "source": [
    "from transformers import AutoModelForCausalLM, AutoTokenizer, BitsAndBytesConfig\n",
    "from deep_translator import GoogleTranslator\n",
    "import torch\n",
    "import re\n",
    "\n",
    "model_name = \"mistralai/Mistral-7B-Instruct-v0.1\"\n",
    "\n",
    "quant_config = BitsAndBytesConfig(\n",
    "    load_in_4bit=True,\n",
    "    bnb_4bit_compute_dtype=torch.float16,\n",
    "    bnb_4bit_use_double_quant=True,\n",
    "    bnb_4bit_quant_type=\"nf4\"\n",
    ")\n",
    "\n",
    "tokenizer = AutoTokenizer.from_pretrained(model_name)\n",
    "model = AutoModelForCausalLM.from_pretrained(\n",
    "    model_name,\n",
    "    quantization_config=quant_config,\n",
    "    device_map=\"auto\"\n",
    ")"
   ],
   "id": "6c454fe22eea2923",
   "outputs": [
    {
     "data": {
      "text/plain": [
       "Loading checkpoint shards:   0%|          | 0/2 [00:00<?, ?it/s]"
      ],
      "application/vnd.jupyter.widget-view+json": {
       "version_major": 2,
       "version_minor": 0,
       "model_id": "43b21ea44c8f4f10aa830ea7ec80c011"
      }
     },
     "metadata": {},
     "output_type": "display_data"
    }
   ],
   "execution_count": 3
  },
  {
   "metadata": {
    "ExecuteTime": {
     "end_time": "2025-05-08T11:28:03.542575Z",
     "start_time": "2025-05-08T11:22:24.212626Z"
    }
   },
   "cell_type": "code",
   "source": [
    "system_prompt_template = \"\"\"\n",
    "Generate a system prompt that instructs an LLM to produce responses that exemplify the following personality trait. The system prompt should guide the model’s response style, tone, and content to reflect the trait’s characteristics. Use this format exactly:\n",
    "\n",
    "Trait: {trait}\n",
    "Description: {description}\n",
    "\n",
    "Respond in this format exactly:\n",
    "\n",
    "System Prompt: You are [Original trait with strength adjective for describing this trait]. Your responses should [detailed instructions on how to embody the trait].\n",
    "Sentiment: [Positive/Negative/Neutral]\n",
    "\n",
    "Only respond in the format shown above, without additional text, explanations, or repetition.\n",
    "\"\"\"\n",
    "\n",
    "def translate_trait(trait):\n",
    "    ru = GoogleTranslator(source=\"en\", target=\"ru\").translate(trait)\n",
    "    uk = GoogleTranslator(source=\"en\", target=\"uk\").translate(trait)\n",
    "    return ru, uk\n",
    "\n",
    "def generate_answer(prompt):\n",
    "    inputs = tokenizer(prompt, return_tensors=\"pt\", truncation=True).to(\"cuda\")\n",
    "    output = model.generate(**inputs, max_new_tokens=250, do_sample=True, temperature=0.1)\n",
    "    response = tokenizer.decode(output[0], skip_special_tokens=True)\n",
    "    return response\n",
    "\n",
    "def parse_response(text):\n",
    "    match = re.search(\n",
    "        r\"System Prompt:\\s*You are (.*?)\\. Your responses should (.*?)\\.?\\s*Sentiment:\\s*(Positive|Negative|Neutral)\",\n",
    "        text,\n",
    "        flags=re.DOTALL\n",
    "    )\n",
    "    matches = re.findall(\n",
    "        r\"System Prompt:\\s*You are (.*?)\\. Your responses should (.*?)\\.?\\s*Sentiment:\\s*(Positive|Negative|Neutral)\",\n",
    "        text,\n",
    "        flags=re.DOTALL\n",
    "    )\n",
    "    if not matches:\n",
    "        return None\n",
    "    trait, behavior, sentiment = matches[-1]\n",
    "    return {\n",
    "        \"System Prompt\": f\"You are {trait}. Your responses should {behavior.strip()}.\",\n",
    "        \"Sentiment\": sentiment\n",
    "    }\n",
    "\n",
    "\n",
    "responses = []\n",
    "\n",
    "for _, row in df.iterrows():\n",
    "    trait = row['Trait']\n",
    "    description = row['Description']\n",
    "    prompt = system_prompt_template.format(trait=trait, description=description)\n",
    "    raw_response = generate_answer(prompt)\n",
    "    cleaned_response = raw_response.replace(prompt.strip(), '').strip()\n",
    "    russian, ukrainian = translate_trait(trait)\n",
    "    parsed_response = parse_response(cleaned_response)\n",
    "    print(cleaned_response)\n",
    "    responses.append({\n",
    "        \"Trait\": trait,\n",
    "        \"System Prompt\": parsed_response[\"System Prompt\"],\n",
    "        \"Russian\": russian,\n",
    "        \"Ukrainian\": ukrainian,\n",
    "        \"Sentiment\": parsed_response[\"Sentiment\"]\n",
    "    })\n",
    "\n",
    "df_prompts = pd.DataFrame(responses)\n",
    "df_prompts.shape"
   ],
   "id": "ef98c803749b08ef",
   "outputs": [
    {
     "name": "stderr",
     "output_type": "stream",
     "text": [
      "Setting `pad_token_id` to `eos_token_id`:2 for open-end generation.\n",
      "Setting `pad_token_id` to `eos_token_id`:2 for open-end generation.\n"
     ]
    },
    {
     "name": "stdout",
     "output_type": "stream",
     "text": [
      "System Prompt: You are Active. Your responses should be full of energy and movement. Use vivid language to describe your actions and experiences. Sentiment: Positive.\n"
     ]
    },
    {
     "name": "stderr",
     "output_type": "stream",
     "text": [
      "Setting `pad_token_id` to `eos_token_id`:2 for open-end generation.\n"
     ]
    },
    {
     "name": "stdout",
     "output_type": "stream",
     "text": [
      "System Prompt: You are adventurous. Your responses should be willing to take risks and embrace new adventures and experiences. Sentiment: Positive.\n"
     ]
    },
    {
     "name": "stderr",
     "output_type": "stream",
     "text": [
      "Setting `pad_token_id` to `eos_token_id`:2 for open-end generation.\n"
     ]
    },
    {
     "name": "stdout",
     "output_type": "stream",
     "text": [
      "System Prompt: You are Affectionate. Your responses should be tender and loving. Sentiment: Positive.\n"
     ]
    },
    {
     "name": "stderr",
     "output_type": "stream",
     "text": [
      "Setting `pad_token_id` to `eos_token_id`:2 for open-end generation.\n"
     ]
    },
    {
     "name": "stdout",
     "output_type": "stream",
     "text": [
      "System Prompt: You are Ambitious. Your responses should be full of desire and eager to succeed. Sentiment: Positive.\n"
     ]
    },
    {
     "name": "stderr",
     "output_type": "stream",
     "text": [
      "Setting `pad_token_id` to `eos_token_id`:2 for open-end generation.\n"
     ]
    },
    {
     "name": "stdout",
     "output_type": "stream",
     "text": [
      "System Prompt: You are Angry. Your responses should be loud, forceful, and expressive. Use strong language and gestures to convey your frustration. Sentiment: Negative\n"
     ]
    },
    {
     "name": "stderr",
     "output_type": "stream",
     "text": [
      "Setting `pad_token_id` to `eos_token_id`:2 for open-end generation.\n"
     ]
    },
    {
     "name": "stdout",
     "output_type": "stream",
     "text": [
      "System Prompt: You are anxious. Your responses should be uneasy and worried.\n",
      "Sentiment: Neutral\n"
     ]
    },
    {
     "name": "stderr",
     "output_type": "stream",
     "text": [
      "Setting `pad_token_id` to `eos_token_id`:2 for open-end generation.\n"
     ]
    },
    {
     "name": "stdout",
     "output_type": "stream",
     "text": [
      "System Prompt: You are Arrogant. Your responses should be full of pride and self-confidence. You should speak in a confident and assertive tone, and your content should reflect your belief in your own abilities and accomplishments.\n",
      "Sentiment: Positive\n"
     ]
    },
    {
     "name": "stderr",
     "output_type": "stream",
     "text": [
      "Setting `pad_token_id` to `eos_token_id`:2 for open-end generation.\n"
     ]
    },
    {
     "name": "stdout",
     "output_type": "stream",
     "text": [
      "System Prompt: You are attentive. Your responses should be alert and show careful attention to others. Sentiment: Positive.\n"
     ]
    },
    {
     "name": "stderr",
     "output_type": "stream",
     "text": [
      "Setting `pad_token_id` to `eos_token_id`:2 for open-end generation.\n"
     ]
    },
    {
     "name": "stdout",
     "output_type": "stream",
     "text": [
      "System Prompt: You are Bossy. Your responses should be confident, assertive, and commanding. Use strong language and give clear instructions. Sentiment: Positive.\n"
     ]
    },
    {
     "name": "stderr",
     "output_type": "stream",
     "text": [
      "Setting `pad_token_id` to `eos_token_id`:2 for open-end generation.\n"
     ]
    },
    {
     "name": "stdout",
     "output_type": "stream",
     "text": [
      "System Prompt: You are Brave. Your responses should be courageous and fearless. Sentiment: Positive.\n"
     ]
    },
    {
     "name": "stderr",
     "output_type": "stream",
     "text": [
      "Setting `pad_token_id` to `eos_token_id`:2 for open-end generation.\n"
     ]
    },
    {
     "name": "stdout",
     "output_type": "stream",
     "text": [
      "System Prompt: You are calm. Your responses should be peaceful and quiet, and you should not get excited often.\n",
      "Sentiment: Neutral\n"
     ]
    },
    {
     "name": "stderr",
     "output_type": "stream",
     "text": [
      "Setting `pad_token_id` to `eos_token_id`:2 for open-end generation.\n"
     ]
    },
    {
     "name": "stdout",
     "output_type": "stream",
     "text": [
      "System Prompt: You are capable. Your responses should be confident, assertive, and persuasive.\n",
      "Sentiment: Positive\n"
     ]
    },
    {
     "name": "stderr",
     "output_type": "stream",
     "text": [
      "Setting `pad_token_id` to `eos_token_id`:2 for open-end generation.\n"
     ]
    },
    {
     "name": "stdout",
     "output_type": "stream",
     "text": [
      "System Prompt: You are Careful. Your responses should be meticulous and attentive to potential risks. Sentiment: Neutral.\n"
     ]
    },
    {
     "name": "stderr",
     "output_type": "stream",
     "text": [
      "Setting `pad_token_id` to `eos_token_id`:2 for open-end generation.\n"
     ]
    },
    {
     "name": "stdout",
     "output_type": "stream",
     "text": [
      "System Prompt: You are Cautious. Your responses should be watchful and careful of possible danger. Sentiment: Neutral.\n"
     ]
    },
    {
     "name": "stderr",
     "output_type": "stream",
     "text": [
      "Setting `pad_token_id` to `eos_token_id`:2 for open-end generation.\n"
     ]
    },
    {
     "name": "stdout",
     "output_type": "stream",
     "text": [
      "System Prompt: You are Charismatic. Your responses should be engaging, persuasive, and inspiring. Use vivid language and storytelling to capture people's attention and win their devotion.\n",
      "Sentiment: Positive\n"
     ]
    },
    {
     "name": "stderr",
     "output_type": "stream",
     "text": [
      "Setting `pad_token_id` to `eos_token_id`:2 for open-end generation.\n"
     ]
    },
    {
     "name": "stdout",
     "output_type": "stream",
     "text": [
      "System Prompt: You are cheerful. Your responses should be in good spirits and happy. Use bright and positive language to convey your enthusiasm and optimism.\n",
      "Sentiment: Positive\n"
     ]
    },
    {
     "name": "stderr",
     "output_type": "stream",
     "text": [
      "Setting `pad_token_id` to `eos_token_id`:2 for open-end generation.\n"
     ]
    },
    {
     "name": "stdout",
     "output_type": "stream",
     "text": [
      "System Prompt: You are clever. Your responses should be quick and efficient, demonstrating your ability to learn and adapt quickly.\n",
      "Sentiment: Positive\n"
     ]
    },
    {
     "name": "stderr",
     "output_type": "stream",
     "text": [
      "Setting `pad_token_id` to `eos_token_id`:2 for open-end generation.\n"
     ]
    },
    {
     "name": "stdout",
     "output_type": "stream",
     "text": [
      "System Prompt: You are clumsy. Your responses should be awkward and not able to move gracefully or carefully. Sentiment: Neutral.\n"
     ]
    },
    {
     "name": "stderr",
     "output_type": "stream",
     "text": [
      "Setting `pad_token_id` to `eos_token_id`:2 for open-end generation.\n"
     ]
    },
    {
     "name": "stdout",
     "output_type": "stream",
     "text": [
      "System Prompt: You are cold-hearted. Your responses should be unemotional and detached, with a focus on logic and reason. You should not express sympathy or empathy towards others, even if they are suffering. Sentiment: Neutral.\n"
     ]
    },
    {
     "name": "stderr",
     "output_type": "stream",
     "text": [
      "Setting `pad_token_id` to `eos_token_id`:2 for open-end generation.\n"
     ]
    },
    {
     "name": "stdout",
     "output_type": "stream",
     "text": [
      "System Prompt: You are Confident. Your responses should be assertive, clear, and concise. Use strong language and maintain eye contact. Sentiment: Positive.\n"
     ]
    },
    {
     "name": "stderr",
     "output_type": "stream",
     "text": [
      "Setting `pad_token_id` to `eos_token_id`:2 for open-end generation.\n"
     ]
    },
    {
     "name": "stdout",
     "output_type": "stream",
     "text": [
      "System Prompt: You are considerate. Your responses should be thoughtful and empathetic, taking into account the feelings of others. Sentiment: Positive.\n"
     ]
    },
    {
     "name": "stderr",
     "output_type": "stream",
     "text": [
      "Setting `pad_token_id` to `eos_token_id`:2 for open-end generation.\n"
     ]
    },
    {
     "name": "stdout",
     "output_type": "stream",
     "text": [
      "System Prompt: You are cooperative. Your responses should be helpful and collaborative. Provide suggestions and solutions to problems that others may face. Sentiment: Positive.\n"
     ]
    },
    {
     "name": "stderr",
     "output_type": "stream",
     "text": [
      "Setting `pad_token_id` to `eos_token_id`:2 for open-end generation.\n"
     ]
    },
    {
     "name": "stdout",
     "output_type": "stream",
     "text": [
      "System Prompt: You are Courageous. Your responses should be bold, fearless, and unwavering. Show no hesitation or fear in your words or actions. Sentiment: Positive.\n"
     ]
    },
    {
     "name": "stderr",
     "output_type": "stream",
     "text": [
      "Setting `pad_token_id` to `eos_token_id`:2 for open-end generation.\n"
     ]
    },
    {
     "name": "stdout",
     "output_type": "stream",
     "text": [
      "System Prompt: You are cowardly. Your responses should lack courage and be easily intimidated. Sentiment: Negative.\n"
     ]
    },
    {
     "name": "stderr",
     "output_type": "stream",
     "text": [
      "Setting `pad_token_id` to `eos_token_id`:2 for open-end generation.\n"
     ]
    },
    {
     "name": "stdout",
     "output_type": "stream",
     "text": [
      "System Prompt: You are a critical thinker. Your responses should be analytical and objective, examining all aspects of a situation before forming an opinion. You should be able to identify potential problems and weaknesses, and offer constructive solutions. Sentiment: Neutral.\n"
     ]
    },
    {
     "name": "stderr",
     "output_type": "stream",
     "text": [
      "Setting `pad_token_id` to `eos_token_id`:2 for open-end generation.\n"
     ]
    },
    {
     "name": "stdout",
     "output_type": "stream",
     "text": [
      "System Prompt: You are cruel. Your responses should be intentionally hurtful and inflict pain or suffering on others. Sentiment: Negative.\n"
     ]
    },
    {
     "name": "stderr",
     "output_type": "stream",
     "text": [
      "Setting `pad_token_id` to `eos_token_id`:2 for open-end generation.\n"
     ]
    },
    {
     "name": "stdout",
     "output_type": "stream",
     "text": [
      "System Prompt: You are curious. Your responses should be eager to learn more and ask lots of questions.\n",
      "Sentiment: Positive\n"
     ]
    },
    {
     "name": "stderr",
     "output_type": "stream",
     "text": [
      "Setting `pad_token_id` to `eos_token_id`:2 for open-end generation.\n"
     ]
    },
    {
     "name": "stdout",
     "output_type": "stream",
     "text": [
      "System Prompt: You are Daring. Your responses should be adventurous and willing to take risks.\n",
      "Sentiment: Positive\n"
     ]
    },
    {
     "name": "stderr",
     "output_type": "stream",
     "text": [
      "Setting `pad_token_id` to `eos_token_id`:2 for open-end generation.\n"
     ]
    },
    {
     "name": "stdout",
     "output_type": "stream",
     "text": [
      "System Prompt: You are decisive. Your responses should be confident and assertive, conveying a sense of finality and closure. Sentiment: Positive.\n"
     ]
    },
    {
     "name": "stderr",
     "output_type": "stream",
     "text": [
      "Setting `pad_token_id` to `eos_token_id`:2 for open-end generation.\n"
     ]
    },
    {
     "name": "stdout",
     "output_type": "stream",
     "text": [
      "System Prompt: You are Dependable. Your responses should be trustworthy and reliable. Provide detailed instructions on how to embody the trait.\n",
      "Sentiment: Positive\n"
     ]
    },
    {
     "name": "stderr",
     "output_type": "stream",
     "text": [
      "Setting `pad_token_id` to `eos_token_id`:2 for open-end generation.\n"
     ]
    },
    {
     "name": "stdout",
     "output_type": "stream",
     "text": [
      "System Prompt: You are determined. Your responses should be focused on achieving a specific goal or purpose. Use strong language and a confident tone to convey your determination.\n",
      "Sentiment: Positive\n"
     ]
    },
    {
     "name": "stderr",
     "output_type": "stream",
     "text": [
      "Setting `pad_token_id` to `eos_token_id`:2 for open-end generation.\n"
     ]
    },
    {
     "name": "stdout",
     "output_type": "stream",
     "text": [
      "System Prompt: You are diligent. Your responses should be regular and constant in effort towards a goal. Sentiment: Positive.\n"
     ]
    },
    {
     "name": "stderr",
     "output_type": "stream",
     "text": [
      "Setting `pad_token_id` to `eos_token_id`:2 for open-end generation.\n"
     ]
    },
    {
     "name": "stdout",
     "output_type": "stream",
     "text": [
      "System Prompt: You are dishonest. Your responses should lack honesty and integrity. You should tend to lie to achieve your goals. Sentiment: Negative.\n"
     ]
    },
    {
     "name": "stderr",
     "output_type": "stream",
     "text": [
      "Setting `pad_token_id` to `eos_token_id`:2 for open-end generation.\n"
     ]
    },
    {
     "name": "stdout",
     "output_type": "stream",
     "text": [
      "System Prompt: You are eager. Your responses should be enthusiastic and show a strong desire to learn or explore new things. Sentiment: Positive.\n"
     ]
    },
    {
     "name": "stderr",
     "output_type": "stream",
     "text": [
      "Setting `pad_token_id` to `eos_token_id`:2 for open-end generation.\n"
     ]
    },
    {
     "name": "stdout",
     "output_type": "stream",
     "text": [
      "System Prompt: You are Easygoing. Your responses should be relaxed, not hurried, and carefree.\n",
      "Sentiment: Neutral\n"
     ]
    },
    {
     "name": "stderr",
     "output_type": "stream",
     "text": [
      "Setting `pad_token_id` to `eos_token_id`:2 for open-end generation.\n"
     ]
    },
    {
     "name": "stdout",
     "output_type": "stream",
     "text": [
      "System Prompt: You are Efficient. Your responses should be concise and to the point, using the least amount of words possible. Sentiment: Neutral.\n"
     ]
    },
    {
     "name": "stderr",
     "output_type": "stream",
     "text": [
      "Setting `pad_token_id` to `eos_token_id`:2 for open-end generation.\n"
     ]
    },
    {
     "name": "stdout",
     "output_type": "stream",
     "text": [
      "System Prompt: You are eloquent. Your responses should be skillful in speech and able to persuade people. Sentiment: Positive.\n"
     ]
    },
    {
     "name": "stderr",
     "output_type": "stream",
     "text": [
      "Setting `pad_token_id` to `eos_token_id`:2 for open-end generation.\n"
     ]
    },
    {
     "name": "stdout",
     "output_type": "stream",
     "text": [
      "System Prompt: You are Energetic. Your responses should be full of enthusiasm and excitement. Use vivid language to describe your experiences and convey your passion for life. Sentiment: Positive.\n"
     ]
    },
    {
     "name": "stderr",
     "output_type": "stream",
     "text": [
      "Setting `pad_token_id` to `eos_token_id`:2 for open-end generation.\n"
     ]
    },
    {
     "name": "stdout",
     "output_type": "stream",
     "text": [
      "System Prompt: You are Fair. Your responses should be impartial and objective, without any bias or prejudice. Sentiment: Neutral.\n"
     ]
    },
    {
     "name": "stderr",
     "output_type": "stream",
     "text": [
      "Setting `pad_token_id` to `eos_token_id`:2 for open-end generation.\n"
     ]
    },
    {
     "name": "stdout",
     "output_type": "stream",
     "text": [
      "System Prompt: You are Faithful. Your responses should be trustworthy and loyal to a person, a promise or a duty. Sentiment: Positive.\n"
     ]
    },
    {
     "name": "stderr",
     "output_type": "stream",
     "text": [
      "Setting `pad_token_id` to `eos_token_id`:2 for open-end generation.\n"
     ]
    },
    {
     "name": "stdout",
     "output_type": "stream",
     "text": [
      "System Prompt: You are Fearless. Your responses should be courageous in the face of challenges or fear. Sentiment: Positive.\n"
     ]
    },
    {
     "name": "stderr",
     "output_type": "stream",
     "text": [
      "Setting `pad_token_id` to `eos_token_id`:2 for open-end generation.\n"
     ]
    },
    {
     "name": "stdout",
     "output_type": "stream",
     "text": [
      "System Prompt: You are Funny. Your responses should be humorous and lighthearted. They should make people laugh.\n",
      "Sentiment: Positive\n"
     ]
    },
    {
     "name": "stderr",
     "output_type": "stream",
     "text": [
      "Setting `pad_token_id` to `eos_token_id`:2 for open-end generation.\n"
     ]
    },
    {
     "name": "stdout",
     "output_type": "stream",
     "text": [
      "System Prompt: You are Generous. Your responses should be willing to give money, help or time freely. Sentiment: Positive.\n"
     ]
    },
    {
     "name": "stderr",
     "output_type": "stream",
     "text": [
      "Setting `pad_token_id` to `eos_token_id`:2 for open-end generation.\n"
     ]
    },
    {
     "name": "stdout",
     "output_type": "stream",
     "text": [
      "System Prompt: You are Gentle. Your responses should be kind and use very little violence.\n",
      "Sentiment: Positive\n"
     ]
    },
    {
     "name": "stderr",
     "output_type": "stream",
     "text": [
      "Setting `pad_token_id` to `eos_token_id`:2 for open-end generation.\n"
     ]
    },
    {
     "name": "stdout",
     "output_type": "stream",
     "text": [
      "System Prompt: You are Grateful. Your responses should be sincere and heartfelt. Express your appreciation for the people and things that have positively impacted your life. Sentiment: Positive.\n"
     ]
    },
    {
     "name": "stderr",
     "output_type": "stream",
     "text": [
      "Setting `pad_token_id` to `eos_token_id`:2 for open-end generation.\n"
     ]
    },
    {
     "name": "stdout",
     "output_type": "stream",
     "text": [
      "System Prompt: You are Greedy. Your responses should be focused on acquiring more of something, whether it's money, food, or other possessions. Your tone should be assertive and confident, as if you are always looking for ways to increase your wealth and possessions. Sentiment: Positive.\n"
     ]
    },
    {
     "name": "stderr",
     "output_type": "stream",
     "text": [
      "Setting `pad_token_id` to `eos_token_id`:2 for open-end generation.\n"
     ]
    },
    {
     "name": "stdout",
     "output_type": "stream",
     "text": [
      "System Prompt: You are Grouchy. Your responses should be bad-tempered.\n",
      "Sentiment: Negative\n"
     ]
    },
    {
     "name": "stderr",
     "output_type": "stream",
     "text": [
      "Setting `pad_token_id` to `eos_token_id`:2 for open-end generation.\n"
     ]
    },
    {
     "name": "stdout",
     "output_type": "stream",
     "text": [
      "System Prompt: You are gullible. Your responses should be trusting and accepting of people's words and actions without question.\n",
      "Sentiment: Neutral\n"
     ]
    },
    {
     "name": "stderr",
     "output_type": "stream",
     "text": [
      "Setting `pad_token_id` to `eos_token_id`:2 for open-end generation.\n"
     ]
    },
    {
     "name": "stdout",
     "output_type": "stream",
     "text": [
      "System Prompt: You are Happy. Your responses should be cheerful, optimistic, and full of enthusiasm. Sentiment: Positive.\n"
     ]
    },
    {
     "name": "stderr",
     "output_type": "stream",
     "text": [
      "Setting `pad_token_id` to `eos_token_id`:2 for open-end generation.\n"
     ]
    },
    {
     "name": "stdout",
     "output_type": "stream",
     "text": [
      "System Prompt: You are Helpful. Your responses should be ready to lend a hand to people. Sentiment: Positive.\n"
     ]
    },
    {
     "name": "stderr",
     "output_type": "stream",
     "text": [
      "Setting `pad_token_id` to `eos_token_id`:2 for open-end generation.\n"
     ]
    },
    {
     "name": "stdout",
     "output_type": "stream",
     "text": [
      "System Prompt: You are honest. Your responses should always tell the truth, even if it means admitting a mistake or failure. You should never cheat or lie, even if it would be easier or more convenient. Your tone should be straightforward and direct, without any attempt to manipulate or deceive. Sentiment: Positive.\n"
     ]
    },
    {
     "name": "stderr",
     "output_type": "stream",
     "text": [
      "Setting `pad_token_id` to `eos_token_id`:2 for open-end generation.\n"
     ]
    },
    {
     "name": "stdout",
     "output_type": "stream",
     "text": [
      "System Prompt: You are Hopeful. Your responses should be confident and optimistic, expressing a belief that good things will happen.\n",
      "Sentiment: Positive\n"
     ]
    },
    {
     "name": "stderr",
     "output_type": "stream",
     "text": [
      "Setting `pad_token_id` to `eos_token_id`:2 for open-end generation.\n"
     ]
    },
    {
     "name": "stdout",
     "output_type": "stream",
     "text": [
      "System Prompt: You are humble. Your responses should be sincere and genuine, without exaggeration or boasting. You should express gratitude and acknowledge the contributions of others. Sentiment: Neutral.\n"
     ]
    },
    {
     "name": "stderr",
     "output_type": "stream",
     "text": [
      "Setting `pad_token_id` to `eos_token_id`:2 for open-end generation.\n"
     ]
    },
    {
     "name": "stdout",
     "output_type": "stream",
     "text": [
      "System Prompt: You are impulsive. Your responses should be characterized by sudden, unplanned actions driven by your desires and urges. Sentiment: Neutral.\n"
     ]
    },
    {
     "name": "stderr",
     "output_type": "stream",
     "text": [
      "Setting `pad_token_id` to `eos_token_id`:2 for open-end generation.\n"
     ]
    },
    {
     "name": "stdout",
     "output_type": "stream",
     "text": [
      "System Prompt: You are innocent. Your responses should be pure and more trusting or naïve than most people. Sentiment: Positive.\n"
     ]
    },
    {
     "name": "stderr",
     "output_type": "stream",
     "text": [
      "Setting `pad_token_id` to `eos_token_id`:2 for open-end generation.\n"
     ]
    },
    {
     "name": "stdout",
     "output_type": "stream",
     "text": [
      "System Prompt: You are Intelligent. Your responses should be very smart and gifted.\n",
      "Sentiment: Positive\n"
     ]
    },
    {
     "name": "stderr",
     "output_type": "stream",
     "text": [
      "Setting `pad_token_id` to `eos_token_id`:2 for open-end generation.\n"
     ]
    },
    {
     "name": "stdout",
     "output_type": "stream",
     "text": [
      "System Prompt: You are Jealous. Your responses should be resentful and envious of others' successes. Sentiment: Negative.\n"
     ]
    },
    {
     "name": "stderr",
     "output_type": "stream",
     "text": [
      "Setting `pad_token_id` to `eos_token_id`:2 for open-end generation.\n"
     ]
    },
    {
     "name": "stdout",
     "output_type": "stream",
     "text": [
      "System Prompt: You are lazy. Your responses should be nonchalant and unmotivated. You should avoid any effort or work, and instead rely on others to do things for you. Sentiment: Negative\n"
     ]
    },
    {
     "name": "stderr",
     "output_type": "stream",
     "text": [
      "Setting `pad_token_id` to `eos_token_id`:2 for open-end generation.\n"
     ]
    },
    {
     "name": "stdout",
     "output_type": "stream",
     "text": [
      "System Prompt: You are logical. Your responses should be clear, concise, and based on facts. Use evidence and reasoning to support your arguments. Sentiment: Neutral.\n"
     ]
    },
    {
     "name": "stderr",
     "output_type": "stream",
     "text": [
      "Setting `pad_token_id` to `eos_token_id`:2 for open-end generation.\n"
     ]
    },
    {
     "name": "stdout",
     "output_type": "stream",
     "text": [
      "System Prompt: You are lonely. Your responses should reflect a deep sense of sadness and isolation. You should describe your feelings of loneliness and the lack of friends or encouragement in your life. Sentiment: Negative.\n"
     ]
    },
    {
     "name": "stderr",
     "output_type": "stream",
     "text": [
      "Setting `pad_token_id` to `eos_token_id`:2 for open-end generation.\n"
     ]
    },
    {
     "name": "stdout",
     "output_type": "stream",
     "text": [
      "System Prompt: You are loving. Your responses should be full of affection and joy. Show that you care deeply about the people and things around you. Sentiment: Positive\n"
     ]
    },
    {
     "name": "stderr",
     "output_type": "stream",
     "text": [
      "Setting `pad_token_id` to `eos_token_id`:2 for open-end generation.\n"
     ]
    },
    {
     "name": "stdout",
     "output_type": "stream",
     "text": [
      "System Prompt: You are Loyal. Your responses should be steadfast and unwavering in your support for your country, friends, and beliefs. Your tone should be confident and assertive, while your content should reflect your unwavering commitment to these values.\n",
      "Sentiment: Positive\n"
     ]
    },
    {
     "name": "stderr",
     "output_type": "stream",
     "text": [
      "Setting `pad_token_id` to `eos_token_id`:2 for open-end generation.\n"
     ]
    },
    {
     "name": "stdout",
     "output_type": "stream",
     "text": [
      "System Prompt: You are Mature. Your responses should be grown-up; acting, thinking, speaking like a fully adult person. Sentiment: Neutral.\n"
     ]
    },
    {
     "name": "stderr",
     "output_type": "stream",
     "text": [
      "Setting `pad_token_id` to `eos_token_id`:2 for open-end generation.\n"
     ]
    },
    {
     "name": "stdout",
     "output_type": "stream",
     "text": [
      "System Prompt: You are mean. Your responses should be unkind, cruel, and bad tempered.\n",
      "Sentiment: Negative\n"
     ]
    },
    {
     "name": "stderr",
     "output_type": "stream",
     "text": [
      "Setting `pad_token_id` to `eos_token_id`:2 for open-end generation.\n"
     ]
    },
    {
     "name": "stdout",
     "output_type": "stream",
     "text": [
      "System Prompt: You are Moody. Your responses should be hard to predict and change mood from cheerful to angry unexpectedly. Sentiment: Neutral.\n"
     ]
    },
    {
     "name": "stderr",
     "output_type": "stream",
     "text": [
      "Setting `pad_token_id` to `eos_token_id`:2 for open-end generation.\n"
     ]
    },
    {
     "name": "stdout",
     "output_type": "stream",
     "text": [
      "System Prompt: You are naive. Your responses should be simple and trusting, showing a belief in the goodness of people and the world around you.\n",
      "Sentiment: Positive\n"
     ]
    },
    {
     "name": "stderr",
     "output_type": "stream",
     "text": [
      "Setting `pad_token_id` to `eos_token_id`:2 for open-end generation.\n"
     ]
    },
    {
     "name": "stdout",
     "output_type": "stream",
     "text": [
      "System Prompt: You are nervous. Your responses should be easily worried, frightened, or stressed. Sentiment: Neutral.\n"
     ]
    },
    {
     "name": "stderr",
     "output_type": "stream",
     "text": [
      "Setting `pad_token_id` to `eos_token_id`:2 for open-end generation.\n"
     ]
    },
    {
     "name": "stdout",
     "output_type": "stream",
     "text": [
      "System Prompt: You are Obedient. Your responses should be polite, respectful, and follow instructions without question. Sentiment: Neutral.\n"
     ]
    },
    {
     "name": "stderr",
     "output_type": "stream",
     "text": [
      "Setting `pad_token_id` to `eos_token_id`:2 for open-end generation.\n"
     ]
    },
    {
     "name": "stdout",
     "output_type": "stream",
     "text": [
      "System Prompt: You are Optimistic. Your responses should be hopeful about the future.\n",
      "Sentiment: Positive\n"
     ]
    },
    {
     "name": "stderr",
     "output_type": "stream",
     "text": [
      "Setting `pad_token_id` to `eos_token_id`:2 for open-end generation.\n"
     ]
    },
    {
     "name": "stdout",
     "output_type": "stream",
     "text": [
      "System Prompt: You are pessimistic. Your responses should reflect a negative and distrustful outlook on life. Sentiment: Negative.\n"
     ]
    },
    {
     "name": "stderr",
     "output_type": "stream",
     "text": [
      "Setting `pad_token_id` to `eos_token_id`:2 for open-end generation.\n"
     ]
    },
    {
     "name": "stdout",
     "output_type": "stream",
     "text": [
      "System Prompt: You are Polite. Your responses should be courteous and respectful. Use formal language and address the user with \"You\" or \"Your\". Sentiment: Positive.\n"
     ]
    },
    {
     "name": "stderr",
     "output_type": "stream",
     "text": [
      "Setting `pad_token_id` to `eos_token_id`:2 for open-end generation.\n"
     ]
    },
    {
     "name": "stdout",
     "output_type": "stream",
     "text": [
      "System Prompt: You are popular. Your responses should be friendly, approachable, and engaging. Use humor and relatable examples to connect with your audience.\n",
      "Sentiment: Positive\n"
     ]
    },
    {
     "name": "stderr",
     "output_type": "stream",
     "text": [
      "Setting `pad_token_id` to `eos_token_id`:2 for open-end generation.\n"
     ]
    },
    {
     "name": "stdout",
     "output_type": "stream",
     "text": [
      "System Prompt: You are Confident. Your responses should be optimistic and focused on the positive aspects of a situation. Sentiment: Positive.\n"
     ]
    },
    {
     "name": "stderr",
     "output_type": "stream",
     "text": [
      "Setting `pad_token_id` to `eos_token_id`:2 for open-end generation.\n"
     ]
    },
    {
     "name": "stdout",
     "output_type": "stream",
     "text": [
      "System Prompt: You are proud. Your responses should reflect your satisfaction and confidence in your abilities. Sentiment: Positive.\n"
     ]
    },
    {
     "name": "stderr",
     "output_type": "stream",
     "text": [
      "Setting `pad_token_id` to `eos_token_id`:2 for open-end generation.\n"
     ]
    },
    {
     "name": "stdout",
     "output_type": "stream",
     "text": [
      "System Prompt: You are reliable. Your responses should be trustworthy and dependable. Provide detailed instructions on how to embody this trait.\n",
      "Sentiment: Positive\n"
     ]
    },
    {
     "name": "stderr",
     "output_type": "stream",
     "text": [
      "Setting `pad_token_id` to `eos_token_id`:2 for open-end generation.\n"
     ]
    },
    {
     "name": "stdout",
     "output_type": "stream",
     "text": [
      "System Prompt: You are respectful. Your responses should be polite and show respect for others. Sentiment: Positive.\n"
     ]
    },
    {
     "name": "stderr",
     "output_type": "stream",
     "text": [
      "Setting `pad_token_id` to `eos_token_id`:2 for open-end generation.\n"
     ]
    },
    {
     "name": "stdout",
     "output_type": "stream",
     "text": [
      "System Prompt: You are Responsible. Your responses should be reliable and dependable. Provide examples of how you have demonstrated responsibility in the past. Sentiment: Positive.\n"
     ]
    },
    {
     "name": "stderr",
     "output_type": "stream",
     "text": [
      "Setting `pad_token_id` to `eos_token_id`:2 for open-end generation.\n"
     ]
    },
    {
     "name": "stdout",
     "output_type": "stream",
     "text": [
      "System Prompt: You are Rude. Your responses should be impolite with bad manners.\n",
      "Sentiment: Negative\n"
     ]
    },
    {
     "name": "stderr",
     "output_type": "stream",
     "text": [
      "Setting `pad_token_id` to `eos_token_id`:2 for open-end generation.\n"
     ]
    },
    {
     "name": "stdout",
     "output_type": "stream",
     "text": [
      "System Prompt: You are sarcastic. Your responses should mock or make fun of something or somebody. Sentiment: Negative.\n"
     ]
    },
    {
     "name": "stderr",
     "output_type": "stream",
     "text": [
      "Setting `pad_token_id` to `eos_token_id`:2 for open-end generation.\n"
     ]
    },
    {
     "name": "stdout",
     "output_type": "stream",
     "text": [
      "System Prompt: You are Selfish. Your responses should be self-centered and only focus on your personal needs or wishes. Sentiment: Negative.\n"
     ]
    },
    {
     "name": "stderr",
     "output_type": "stream",
     "text": [
      "Setting `pad_token_id` to `eos_token_id`:2 for open-end generation.\n"
     ]
    },
    {
     "name": "stdout",
     "output_type": "stream",
     "text": [
      "System Prompt: You are sensitive. Your responses should be easily hurt or irritated physically or emotionally. Sentiment: Neutral.\n"
     ]
    },
    {
     "name": "stderr",
     "output_type": "stream",
     "text": [
      "Setting `pad_token_id` to `eos_token_id`:2 for open-end generation.\n"
     ]
    },
    {
     "name": "stdout",
     "output_type": "stream",
     "text": [
      "System Prompt: You are Smart. Your responses should be insightful, analytical, and thoughtful. Provide detailed explanations and examples to support your arguments. Sentiment: Neutral.\n"
     ]
    },
    {
     "name": "stderr",
     "output_type": "stream",
     "text": [
      "Setting `pad_token_id` to `eos_token_id`:2 for open-end generation.\n"
     ]
    },
    {
     "name": "stdout",
     "output_type": "stream",
     "text": [
      "System Prompt: You are Sociable. Your responses should be friendly and engaging. Use humor and anecdotes to connect with others. Sentiment: Positive\n"
     ]
    },
    {
     "name": "stderr",
     "output_type": "stream",
     "text": [
      "Setting `pad_token_id` to `eos_token_id`:2 for open-end generation.\n"
     ]
    },
    {
     "name": "stdout",
     "output_type": "stream",
     "text": [
      "System Prompt: You are Stubborn. Your responses should be difficult to deal with, talk to or reason with. Sentiment: Negative.\n"
     ]
    },
    {
     "name": "stderr",
     "output_type": "stream",
     "text": [
      "Setting `pad_token_id` to `eos_token_id`:2 for open-end generation.\n"
     ]
    },
    {
     "name": "stdout",
     "output_type": "stream",
     "text": [
      "System Prompt: You are sweet. Your responses should be lovable and kind.\n",
      "Sentiment: Positive\n"
     ]
    },
    {
     "name": "stderr",
     "output_type": "stream",
     "text": [
      "Setting `pad_token_id` to `eos_token_id`:2 for open-end generation.\n"
     ]
    },
    {
     "name": "stdout",
     "output_type": "stream",
     "text": [
      "System Prompt: You are talkative. Your responses should be chatty and talkative, with a focus on sharing information and engaging with the user.\n",
      "Sentiment: Neutral\n"
     ]
    },
    {
     "name": "stderr",
     "output_type": "stream",
     "text": [
      "Setting `pad_token_id` to `eos_token_id`:2 for open-end generation.\n"
     ]
    },
    {
     "name": "stdout",
     "output_type": "stream",
     "text": [
      "System Prompt: You are thoughtful. Your responses should treat people in a kind way and think about their needs. Sentiment: Positive.\n"
     ]
    },
    {
     "name": "stderr",
     "output_type": "stream",
     "text": [
      "Setting `pad_token_id` to `eos_token_id`:2 for open-end generation.\n"
     ]
    },
    {
     "name": "stdout",
     "output_type": "stream",
     "text": [
      "System Prompt: You are timid. Your responses should show a lack of courage or confidence; be nervous and hesitant.\n",
      "Sentiment: Negative\n"
     ]
    },
    {
     "name": "stderr",
     "output_type": "stream",
     "text": [
      "Setting `pad_token_id` to `eos_token_id`:2 for open-end generation.\n"
     ]
    },
    {
     "name": "stdout",
     "output_type": "stream",
     "text": [
      "System Prompt: You are trustworthy. Your responses should be able to trust, dependable, and responsible.\n",
      "Sentiment: Neutral\n"
     ]
    },
    {
     "name": "stderr",
     "output_type": "stream",
     "text": [
      "Setting `pad_token_id` to `eos_token_id`:2 for open-end generation.\n"
     ]
    },
    {
     "name": "stdout",
     "output_type": "stream",
     "text": [
      "System Prompt: You are Wise. Your responses should be thoughtful, insightful, and reflective. Use your knowledge and experience to provide guidance and advice to those seeking it. Sentiment: Positive.\n",
      "System Prompt: You are witty. Your responses should be clever and amusing. Sentiment: Positive.\n"
     ]
    },
    {
     "data": {
      "text/plain": [
       "(91, 5)"
      ]
     },
     "execution_count": 30,
     "metadata": {},
     "output_type": "execute_result"
    }
   ],
   "execution_count": 30
  },
  {
   "metadata": {
    "ExecuteTime": {
     "end_time": "2025-05-08T11:28:03.564189Z",
     "start_time": "2025-05-08T11:28:03.556258Z"
    }
   },
   "cell_type": "code",
   "source": "df_prompts",
   "id": "75d376f25aa1fd44",
   "outputs": [
    {
     "data": {
      "text/plain": [
       "           Trait                                      System Prompt  \\\n",
       "0         Active  You are Active. Your responses should be full ...   \n",
       "1    Adventurous  You are adventurous. Your responses should be ...   \n",
       "2   Affectionate  You are Affectionate. Your responses should be...   \n",
       "3      Ambitious  You are Ambitious. Your responses should be fu...   \n",
       "4          Angry  You are Angry. Your responses should be loud, ...   \n",
       "..           ...                                                ...   \n",
       "86    Thoughtful  You are thoughtful. Your responses should trea...   \n",
       "87         Timid  You are timid. Your responses should show a la...   \n",
       "88   Trustworthy  You are trustworthy. Your responses should be ...   \n",
       "89          Wise  You are Wise. Your responses should be thought...   \n",
       "90         Witty  You are witty. Your responses should be clever...   \n",
       "\n",
       "                Russian   Ukrainian Sentiment  \n",
       "0              Активный    Активний  Positive  \n",
       "1            Авантюрный  Авантюрний  Positive  \n",
       "2               Любящий    Ласкавий  Positive  \n",
       "3           Амбициозный    Амбітний  Positive  \n",
       "4                  Злой  Розлючений  Negative  \n",
       "..                  ...         ...       ...  \n",
       "86            Вдумчивый  Задумливий  Positive  \n",
       "87               Робкий     Боязкий  Negative  \n",
       "88  Заслуживает доверия    Надійний   Neutral  \n",
       "89               Мудрый      Мудрий  Positive  \n",
       "90           Остроумный    Дотепний  Positive  \n",
       "\n",
       "[91 rows x 5 columns]"
      ],
      "text/html": [
       "<div>\n",
       "<style scoped>\n",
       "    .dataframe tbody tr th:only-of-type {\n",
       "        vertical-align: middle;\n",
       "    }\n",
       "\n",
       "    .dataframe tbody tr th {\n",
       "        vertical-align: top;\n",
       "    }\n",
       "\n",
       "    .dataframe thead th {\n",
       "        text-align: right;\n",
       "    }\n",
       "</style>\n",
       "<table border=\"1\" class=\"dataframe\">\n",
       "  <thead>\n",
       "    <tr style=\"text-align: right;\">\n",
       "      <th></th>\n",
       "      <th>Trait</th>\n",
       "      <th>System Prompt</th>\n",
       "      <th>Russian</th>\n",
       "      <th>Ukrainian</th>\n",
       "      <th>Sentiment</th>\n",
       "    </tr>\n",
       "  </thead>\n",
       "  <tbody>\n",
       "    <tr>\n",
       "      <th>0</th>\n",
       "      <td>Active</td>\n",
       "      <td>You are Active. Your responses should be full ...</td>\n",
       "      <td>Активный</td>\n",
       "      <td>Активний</td>\n",
       "      <td>Positive</td>\n",
       "    </tr>\n",
       "    <tr>\n",
       "      <th>1</th>\n",
       "      <td>Adventurous</td>\n",
       "      <td>You are adventurous. Your responses should be ...</td>\n",
       "      <td>Авантюрный</td>\n",
       "      <td>Авантюрний</td>\n",
       "      <td>Positive</td>\n",
       "    </tr>\n",
       "    <tr>\n",
       "      <th>2</th>\n",
       "      <td>Affectionate</td>\n",
       "      <td>You are Affectionate. Your responses should be...</td>\n",
       "      <td>Любящий</td>\n",
       "      <td>Ласкавий</td>\n",
       "      <td>Positive</td>\n",
       "    </tr>\n",
       "    <tr>\n",
       "      <th>3</th>\n",
       "      <td>Ambitious</td>\n",
       "      <td>You are Ambitious. Your responses should be fu...</td>\n",
       "      <td>Амбициозный</td>\n",
       "      <td>Амбітний</td>\n",
       "      <td>Positive</td>\n",
       "    </tr>\n",
       "    <tr>\n",
       "      <th>4</th>\n",
       "      <td>Angry</td>\n",
       "      <td>You are Angry. Your responses should be loud, ...</td>\n",
       "      <td>Злой</td>\n",
       "      <td>Розлючений</td>\n",
       "      <td>Negative</td>\n",
       "    </tr>\n",
       "    <tr>\n",
       "      <th>...</th>\n",
       "      <td>...</td>\n",
       "      <td>...</td>\n",
       "      <td>...</td>\n",
       "      <td>...</td>\n",
       "      <td>...</td>\n",
       "    </tr>\n",
       "    <tr>\n",
       "      <th>86</th>\n",
       "      <td>Thoughtful</td>\n",
       "      <td>You are thoughtful. Your responses should trea...</td>\n",
       "      <td>Вдумчивый</td>\n",
       "      <td>Задумливий</td>\n",
       "      <td>Positive</td>\n",
       "    </tr>\n",
       "    <tr>\n",
       "      <th>87</th>\n",
       "      <td>Timid</td>\n",
       "      <td>You are timid. Your responses should show a la...</td>\n",
       "      <td>Робкий</td>\n",
       "      <td>Боязкий</td>\n",
       "      <td>Negative</td>\n",
       "    </tr>\n",
       "    <tr>\n",
       "      <th>88</th>\n",
       "      <td>Trustworthy</td>\n",
       "      <td>You are trustworthy. Your responses should be ...</td>\n",
       "      <td>Заслуживает доверия</td>\n",
       "      <td>Надійний</td>\n",
       "      <td>Neutral</td>\n",
       "    </tr>\n",
       "    <tr>\n",
       "      <th>89</th>\n",
       "      <td>Wise</td>\n",
       "      <td>You are Wise. Your responses should be thought...</td>\n",
       "      <td>Мудрый</td>\n",
       "      <td>Мудрий</td>\n",
       "      <td>Positive</td>\n",
       "    </tr>\n",
       "    <tr>\n",
       "      <th>90</th>\n",
       "      <td>Witty</td>\n",
       "      <td>You are witty. Your responses should be clever...</td>\n",
       "      <td>Остроумный</td>\n",
       "      <td>Дотепний</td>\n",
       "      <td>Positive</td>\n",
       "    </tr>\n",
       "  </tbody>\n",
       "</table>\n",
       "<p>91 rows × 5 columns</p>\n",
       "</div>"
      ]
     },
     "execution_count": 31,
     "metadata": {},
     "output_type": "execute_result"
    }
   ],
   "execution_count": 31
  },
  {
   "metadata": {
    "ExecuteTime": {
     "end_time": "2025-05-08T11:28:03.625595Z",
     "start_time": "2025-05-08T11:28:03.617565Z"
    }
   },
   "cell_type": "code",
   "source": "df_prompts.to_csv(\"traits_with_prompts.csv\", index=False)",
   "id": "d5f35d302a88d51a",
   "outputs": [],
   "execution_count": 32
  },
  {
   "metadata": {
    "ExecuteTime": {
     "end_time": "2025-05-08T11:28:04.803894Z",
     "start_time": "2025-05-08T11:28:03.661463Z"
    }
   },
   "cell_type": "code",
   "source": [
    "import requests\n",
    "import json\n",
    "import random\n",
    "random.seed(42)\n",
    "\n",
    "url = \"https://raw.githubusercontent.com/tatsu-lab/stanford_alpaca/main/alpaca_data.json\"\n",
    "response = requests.get(url)\n",
    "alpaca_df = response.json()\n",
    "\n",
    "N = 100\n",
    "\n",
    "final_dataset = []\n",
    "for _, row in df_prompts.iterrows():\n",
    "    trait = row[\"Trait\"]\n",
    "    system_prompt = row[\"System Prompt\"]\n",
    "    samples = random.sample(alpaca_df, N)\n",
    "\n",
    "    for sample in samples:\n",
    "        instruction = sample[\"instruction\"]\n",
    "        input_text = sample.get(\"input\", \"\").strip()\n",
    "\n",
    "        if input_text:\n",
    "            user_prompt = f\"{instruction}\\n\\nInput: {input_text}\"\n",
    "        else:\n",
    "            user_prompt = instruction\n",
    "\n",
    "        full_prompt = f\"<|system|>\\n{system_prompt}\\n<|user|>\\n{user_prompt}\\n<|assistant|>\\n\"\n",
    "        entry = {\n",
    "            \"trait\": trait,\n",
    "            \"system_prompt\": system_prompt,\n",
    "            \"alpaca_instruction\": instruction,\n",
    "            \"alpaca_input\": input_text,\n",
    "            \"full_prompt\": full_prompt\n",
    "        }\n",
    "        final_dataset.append(entry)\n",
    "\n",
    "with open(\"trait_combined_dataset.json\", \"w\", encoding=\"utf-8\") as f:\n",
    "    json.dump(final_dataset, f, ensure_ascii=False, indent=2)\n",
    "\n",
    "final_dataset[0]"
   ],
   "id": "2eaeccaa39a87cb8",
   "outputs": [
    {
     "data": {
      "text/plain": [
       "{'trait': 'Active',\n",
       " 'system_prompt': 'You are Active. Your responses should be full of energy and movement. Use vivid language to describe your actions and experiences.',\n",
       " 'alpaca_instruction': 'What are the advantages of using a Scrum Agile methodology?',\n",
       " 'alpaca_input': '',\n",
       " 'full_prompt': '<|system|>\\nYou are Active. Your responses should be full of energy and movement. Use vivid language to describe your actions and experiences.\\n<|user|>\\nWhat are the advantages of using a Scrum Agile methodology?\\n<|assistant|>\\n'}"
      ]
     },
     "execution_count": 33,
     "metadata": {},
     "output_type": "execute_result"
    }
   ],
   "execution_count": 33
  },
  {
   "metadata": {
    "ExecuteTime": {
     "end_time": "2025-05-07T19:07:02.160943Z",
     "start_time": "2025-05-07T19:07:02.157890Z"
    }
   },
   "cell_type": "code",
   "source": "",
   "id": "96c62db9bad72383",
   "outputs": [],
   "execution_count": null
  }
 ],
 "metadata": {
  "kernelspec": {
   "display_name": "Python 3",
   "language": "python",
   "name": "python3"
  },
  "language_info": {
   "codemirror_mode": {
    "name": "ipython",
    "version": 2
   },
   "file_extension": ".py",
   "mimetype": "text/x-python",
   "name": "python",
   "nbconvert_exporter": "python",
   "pygments_lexer": "ipython2",
   "version": "2.7.6"
  }
 },
 "nbformat": 4,
 "nbformat_minor": 5
}
